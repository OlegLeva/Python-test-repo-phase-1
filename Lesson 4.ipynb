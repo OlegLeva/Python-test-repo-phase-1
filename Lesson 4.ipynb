{
 "cells": [
  {
   "cell_type": "code",
   "execution_count": 2,
   "metadata": {},
   "outputs": [
    {
     "name": "stdout",
     "output_type": "stream",
     "text": [
      "first\n",
      "['f', 'i', 'r', 's', 't']\n"
     ]
    }
   ],
   "source": [
    "first_collection = \"first\"\n",
    "second_collecgion = ['f', 'i', 'r', 's', 't']\n",
    "print(first_collection)\n",
    "print(second_collecgion)"
   ]
  },
  {
   "cell_type": "code",
   "execution_count": 3,
   "metadata": {},
   "outputs": [
    {
     "name": "stdout",
     "output_type": "stream",
     "text": [
      "['i']\n"
     ]
    }
   ],
   "source": [
    "print(second_collecgion[1:2])"
   ]
  },
  {
   "cell_type": "code",
   "execution_count": 4,
   "metadata": {},
   "outputs": [
    {
     "data": {
      "text/plain": [
       "2"
      ]
     },
     "execution_count": 4,
     "metadata": {},
     "output_type": "execute_result"
    }
   ],
   "source": [
    "second_collecgion.index('r')"
   ]
  },
  {
   "cell_type": "code",
   "execution_count": 7,
   "metadata": {},
   "outputs": [
    {
     "name": "stdout",
     "output_type": "stream",
     "text": [
      "0\n",
      "1\n"
     ]
    }
   ],
   "source": [
    "string = \"asdfds klsdfj sdfjklsdf sd\"\n",
    "collection = ['121', 0, 1.2, True]\n",
    "print(collection[1])\n",
    "collection[1] = 1\n",
    "print(collection[1])"
   ]
  },
  {
   "cell_type": "code",
   "execution_count": 9,
   "metadata": {},
   "outputs": [
    {
     "name": "stdout",
     "output_type": "stream",
     "text": [
      "['121', 1, 1.2, True, [1, 2, 3, 4]]\n"
     ]
    }
   ],
   "source": [
    "collection.append([1,2,3,4])\n",
    "print(collection)\n"
   ]
  },
  {
   "cell_type": "code",
   "execution_count": 11,
   "metadata": {},
   "outputs": [],
   "source": [
    "new_collection = collection + [1, 2, 3, 4]"
   ]
  },
  {
   "cell_type": "code",
   "execution_count": 12,
   "metadata": {},
   "outputs": [
    {
     "data": {
      "text/plain": [
       "['121', 1, 1.2, True, [1, 2, 3, 4], 1, 2, 3, 4]"
      ]
     },
     "execution_count": 12,
     "metadata": {},
     "output_type": "execute_result"
    }
   ],
   "source": [
    "new_collection"
   ]
  },
  {
   "cell_type": "code",
   "execution_count": 14,
   "metadata": {},
   "outputs": [],
   "source": [
    "collection.extend([1,2,3,4])"
   ]
  },
  {
   "cell_type": "code",
   "execution_count": 15,
   "metadata": {},
   "outputs": [
    {
     "data": {
      "text/plain": [
       "['121', 1, 1.2, True, [1, 2, 3, 4], 1, 2, 3, 4]"
      ]
     },
     "execution_count": 15,
     "metadata": {},
     "output_type": "execute_result"
    }
   ],
   "source": [
    "collection"
   ]
  },
  {
   "cell_type": "code",
   "execution_count": 16,
   "metadata": {},
   "outputs": [],
   "source": [
    "collection += [1,2,3,4]"
   ]
  },
  {
   "cell_type": "code",
   "execution_count": 18,
   "metadata": {},
   "outputs": [
    {
     "name": "stdout",
     "output_type": "stream",
     "text": [
      "['121', 1, 1.2, True, [1, 2, 3, 4], 1, 2, 3, 4, 1, 2, 3, 4, ['s', 's', 's', 's', 's', 's', 's', 's', 's', 's']]\n"
     ]
    }
   ],
   "source": [
    "collection.append(['s', 's', 's', 's', 's', 's', 's', 's', 's', 's'])\n",
    "print(collection)"
   ]
  },
  {
   "cell_type": "code",
   "execution_count": 19,
   "metadata": {},
   "outputs": [
    {
     "data": {
      "text/plain": [
       "['s', 's', 's', 's', 's', 's', 's', 's', 's', 's']"
      ]
     },
     "execution_count": 19,
     "metadata": {},
     "output_type": "execute_result"
    }
   ],
   "source": [
    "collection[-1]"
   ]
  },
  {
   "cell_type": "code",
   "execution_count": 21,
   "metadata": {},
   "outputs": [],
   "source": [
    "data = [1,2,3,4,5,6]\n",
    "index = 0\n",
    "result = []\n",
    "while index < len(data):\n",
    "    if data[index] == 5:\n",
    "        result.append(data[index])\n",
    "    index += 1\n"
   ]
  },
  {
   "cell_type": "code",
   "execution_count": 22,
   "metadata": {},
   "outputs": [
    {
     "data": {
      "text/plain": [
       "[5]"
      ]
     },
     "execution_count": 22,
     "metadata": {},
     "output_type": "execute_result"
    }
   ],
   "source": [
    "result"
   ]
  },
  {
   "cell_type": "code",
   "execution_count": 23,
   "metadata": {},
   "outputs": [
    {
     "name": "stdout",
     "output_type": "stream",
     "text": [
      "None\n",
      "2\n"
     ]
    }
   ],
   "source": [
    "immutable_collection = ('123', 567, 0, None)\n",
    "print(immutable_collection[-1])\n",
    "print(immutable_collection.index(0))"
   ]
  },
  {
   "cell_type": "code",
   "execution_count": 25,
   "metadata": {},
   "outputs": [
    {
     "ename": "TypeError",
     "evalue": "'tuple' object does not support item assignment",
     "output_type": "error",
     "traceback": [
      "\u001b[1;31m---------------------------------------------------------------------------\u001b[0m",
      "\u001b[1;31mTypeError\u001b[0m                                 Traceback (most recent call last)",
      "\u001b[1;32m<ipython-input-25-a4addef0d817>\u001b[0m in \u001b[0;36m<module>\u001b[1;34m\u001b[0m\n\u001b[1;32m----> 1\u001b[1;33m \u001b[0mimmutable_collection\u001b[0m\u001b[1;33m[\u001b[0m\u001b[1;36m0\u001b[0m\u001b[1;33m]\u001b[0m \u001b[1;33m=\u001b[0m \u001b[1;34m'new'\u001b[0m\u001b[1;33m\u001b[0m\u001b[1;33m\u001b[0m\u001b[0m\n\u001b[0m",
      "\u001b[1;31mTypeError\u001b[0m: 'tuple' object does not support item assignment"
     ]
    }
   ],
   "source": [
    "immutable_collection[0] = 'new'"
   ]
  },
  {
   "cell_type": "code",
   "execution_count": 27,
   "metadata": {},
   "outputs": [
    {
     "name": "stdout",
     "output_type": "stream",
     "text": [
      "<class 'list'>\n"
     ]
    }
   ],
   "source": [
    "single = [1]\n",
    "print(type(single))"
   ]
  },
  {
   "cell_type": "code",
   "execution_count": 28,
   "metadata": {},
   "outputs": [
    {
     "name": "stdout",
     "output_type": "stream",
     "text": [
      "<class 'int'>\n"
     ]
    }
   ],
   "source": [
    "single_t = (1)\n",
    "print(type(single_t))"
   ]
  },
  {
   "cell_type": "code",
   "execution_count": 29,
   "metadata": {},
   "outputs": [
    {
     "name": "stdout",
     "output_type": "stream",
     "text": [
      "<class 'tuple'>\n"
     ]
    }
   ],
   "source": [
    "a, b, c = 1, 2, 3\n",
    "print(type(a))"
   ]
  },
  {
   "cell_type": "code",
   "execution_count": 35,
   "metadata": {},
   "outputs": [
    {
     "name": "stdout",
     "output_type": "stream",
     "text": [
      "<class 'tuple'>\n",
      "4\n"
     ]
    }
   ],
   "source": [
    "a = (1, '123', [123], (1,2,3,))\n",
    "print(type(a))\n",
    "print(len(a))"
   ]
  },
  {
   "cell_type": "code",
   "execution_count": 42,
   "metadata": {},
   "outputs": [],
   "source": [
    "(a, b, c) = \"123\""
   ]
  },
  {
   "cell_type": "code",
   "execution_count": 43,
   "metadata": {},
   "outputs": [],
   "source": [
    "a, = '1'"
   ]
  },
  {
   "cell_type": "code",
   "execution_count": 44,
   "metadata": {},
   "outputs": [
    {
     "data": {
      "text/plain": [
       "'1'"
      ]
     },
     "execution_count": 44,
     "metadata": {},
     "output_type": "execute_result"
    }
   ],
   "source": [
    "a"
   ]
  },
  {
   "cell_type": "code",
   "execution_count": 50,
   "metadata": {},
   "outputs": [
    {
     "name": "stdout",
     "output_type": "stream",
     "text": [
      "['Elem']\n"
     ]
    }
   ],
   "source": [
    "a = ['Elem']\n",
    "print(a)"
   ]
  },
  {
   "cell_type": "code",
   "execution_count": 51,
   "metadata": {},
   "outputs": [
    {
     "name": "stdout",
     "output_type": "stream",
     "text": [
      "Elem\n"
     ]
    }
   ],
   "source": [
    "elem = a[0]\n",
    "print(elem)"
   ]
  },
  {
   "cell_type": "code",
   "execution_count": 52,
   "metadata": {},
   "outputs": [
    {
     "name": "stdout",
     "output_type": "stream",
     "text": [
      "Elem\n"
     ]
    }
   ],
   "source": [
    "elem = a[-1]\n",
    "print(elem)"
   ]
  },
  {
   "cell_type": "code",
   "execution_count": 53,
   "metadata": {},
   "outputs": [
    {
     "name": "stdout",
     "output_type": "stream",
     "text": [
      "Elem\n",
      "[]\n"
     ]
    }
   ],
   "source": [
    "elem = a.pop()\n",
    "print(elem)\n",
    "print(a)"
   ]
  },
  {
   "cell_type": "code",
   "execution_count": 54,
   "metadata": {},
   "outputs": [
    {
     "name": "stdout",
     "output_type": "stream",
     "text": [
      "Elem\n",
      "['Elem']\n"
     ]
    }
   ],
   "source": [
    "a, = ['Elem']\n",
    "print(a)\n",
    "a = ['Elem']\n",
    "print(a)"
   ]
  },
  {
   "cell_type": "code",
   "execution_count": 59,
   "metadata": {
    "scrolled": true
   },
   "outputs": [],
   "source": [
    "a = ['Elem', 'Second']"
   ]
  },
  {
   "cell_type": "code",
   "execution_count": 77,
   "metadata": {},
   "outputs": [],
   "source": [
    "f = ' 12ss02.1   + 504'\n",
    "\n",
    "a,b = f.strip().split(' +')"
   ]
  },
  {
   "cell_type": "code",
   "execution_count": 127,
   "metadata": {},
   "outputs": [
    {
     "name": "stdout",
     "output_type": "stream",
     "text": [
      "12ss02.1  \n",
      "04\n"
     ]
    }
   ],
   "source": [
    "print(a)\n",
    "print(b)"
   ]
  },
  {
   "cell_type": "code",
   "execution_count": 83,
   "metadata": {},
   "outputs": [
    {
     "name": "stdout",
     "output_type": "stream",
     "text": [
      "['12ss02.1 ', '504']\n"
     ]
    }
   ],
   "source": [
    "if '  +' in f:\n",
    "    print(f.strip().split('  +'))"
   ]
  },
  {
   "cell_type": "code",
   "execution_count": 84,
   "metadata": {},
   "outputs": [
    {
     "name": "stdout",
     "output_type": "stream",
     "text": [
      "['+', 1, 3]\n"
     ]
    }
   ],
   "source": [
    "plus = '+'\n",
    "oper = 1\n",
    "collection = [plus, oper, oper+2]\n",
    "print(collection)"
   ]
  },
  {
   "cell_type": "code",
   "execution_count": 86,
   "metadata": {},
   "outputs": [
    {
     "name": "stdout",
     "output_type": "stream",
     "text": [
      "Input oper+\n",
      "Good\n",
      "['12ss02.1 ', '504']\n"
     ]
    }
   ],
   "source": [
    "plus_oper = '+'\n",
    "mul_oper = '*'\n",
    "available_opers = [plus_oper, mul_oper]\n",
    "user_oper = input('Input oper')\n",
    "if user_oper in available_opers:\n",
    "    print('Good')\n",
    "    if plus_oper in f:\n",
    "        print(f.strip().split('  +'))\n",
    "else:\n",
    "    print(f'{user_oper} is not supported')"
   ]
  },
  {
   "cell_type": "code",
   "execution_count": 96,
   "metadata": {},
   "outputs": [
    {
     "name": "stdout",
     "output_type": "stream",
     "text": [
      "<class 'tuple'>\n",
      "<class 'list'>\n",
      "1\n",
      "1.0\n",
      "1\n",
      "(1, 2, 3)\n",
      "('1', '2', '3', '4', '3', '2')\n"
     ]
    },
    {
     "data": {
      "text/plain": [
       "\"('1', '2', '3', '4', '3', '2')\""
      ]
     },
     "execution_count": 96,
     "metadata": {},
     "output_type": "execute_result"
    }
   ],
   "source": [
    "кортеж = 1,2,3,\n",
    "print(type(кортеж))\n",
    "список = list(кортеж)\n",
    "print(type(список))\n",
    "\n",
    "print(int('1'))\n",
    "print(float('1'))\n",
    "print(int(1.2))\n",
    "\n",
    "\n",
    "print(tuple(список))\n",
    "print(tuple('123432'))\n",
    "\n",
    "\n",
    "str(tuple('123432'))"
   ]
  },
  {
   "cell_type": "code",
   "execution_count": 99,
   "metadata": {},
   "outputs": [
    {
     "name": "stdout",
     "output_type": "stream",
     "text": [
      "[1,2,3]666[2,3,4]\n"
     ]
    }
   ],
   "source": [
    "print('[1,2,3]', '[2,3,4]',sep='666')"
   ]
  },
  {
   "cell_type": "code",
   "execution_count": 101,
   "metadata": {},
   "outputs": [
    {
     "data": {
      "text/plain": [
       "'1_2_3_4_3_2'"
      ]
     },
     "execution_count": 101,
     "metadata": {},
     "output_type": "execute_result"
    }
   ],
   "source": [
    "'_'.join((tuple('123432')))"
   ]
  },
  {
   "cell_type": "code",
   "execution_count": 102,
   "metadata": {},
   "outputs": [
    {
     "data": {
      "text/plain": [
       "'123432'"
      ]
     },
     "execution_count": 102,
     "metadata": {},
     "output_type": "execute_result"
    }
   ],
   "source": [
    "''.join((tuple('123432')))"
   ]
  },
  {
   "cell_type": "code",
   "execution_count": 103,
   "metadata": {},
   "outputs": [
    {
     "name": "stdout",
     "output_type": "stream",
     "text": [
      "\n",
      "Виберіть операцію зі списку:\n",
      "+, *\n",
      "\n"
     ]
    }
   ],
   "source": [
    "print(f\"\"\"\n",
    "Виберіть операцію зі списку:\n",
    "{', '.join(available_opers)}\n",
    "\"\"\")"
   ]
  },
  {
   "cell_type": "code",
   "execution_count": 119,
   "metadata": {},
   "outputs": [
    {
     "name": "stdout",
     "output_type": "stream",
     "text": [
      "[1, 2, 3, 4]\n",
      "[1, 2, 3, None, 4, 5]\n",
      "[1, None, 1, 3, 8, None, 9, 2, 3, None, 4, 5]\n",
      "[1, 1, 3, 8, 9, 2, 3, 4, 5]\n",
      "[1, 3, 8, 9, 2, 3, 4, 5]\n",
      "[1, 2, 3, 4, 5]\n",
      "[1, None, 1, 3, 8, None, 9, 2, 3, 4, 5]\n"
     ]
    }
   ],
   "source": [
    "f = [1,2,3,4]\n",
    "print(f)\n",
    "f.append(5)\n",
    "f.insert(3, None)\n",
    "print(f)\n",
    "f[1:1] = [None, 1, 3, 8, None, 9]\n",
    "print(f)\n",
    "\n",
    "\n",
    "while None in f:\n",
    "    f.remove(None)\n",
    "print(f)\n",
    "\n",
    "del f[0]\n",
    "print(f)\n",
    "\n",
    "del f[1:4]\n",
    "print(f)\n",
    "f = f[:1] + [None, 1, 3, 8, None, 9] + f[1:]\n",
    "print(f)"
   ]
  },
  {
   "cell_type": "code",
   "execution_count": 123,
   "metadata": {},
   "outputs": [
    {
     "name": "stdout",
     "output_type": "stream",
     "text": [
      "[1, 5, 6, 7, 8, 2, 3, 4]\n"
     ]
    }
   ],
   "source": [
    "first_list = [1,2,3,4]\n",
    "second_list = [5,6,7,8]\n",
    "#first_list = first_list + second_list\n",
    "#first_list.extend(second_list)\n",
    "#first_list += second_list\n",
    "first_list = first_list[:1] + second_list + first_list[1:]\n",
    "print(first_list)"
   ]
  },
  {
   "cell_type": "code",
   "execution_count": 125,
   "metadata": {},
   "outputs": [
    {
     "data": {
      "text/plain": [
       "['1', '6']"
      ]
     },
     "execution_count": 125,
     "metadata": {},
     "output_type": "execute_result"
    }
   ],
   "source": [
    "g = '1+56'\n",
    "g.split('+5')"
   ]
  },
  {
   "cell_type": "code",
   "execution_count": 126,
   "metadata": {},
   "outputs": [
    {
     "data": {
      "text/plain": [
       "'+56'"
      ]
     },
     "execution_count": 126,
     "metadata": {},
     "output_type": "execute_result"
    }
   ],
   "source": [
    "g.strip('1')"
   ]
  },
  {
   "cell_type": "code",
   "execution_count": 130,
   "metadata": {},
   "outputs": [
    {
     "name": "stdout",
     "output_type": "stream",
     "text": [
      "True\n"
     ]
    }
   ],
   "source": [
    "print('+' in '1+1')"
   ]
  },
  {
   "cell_type": "code",
   "execution_count": 129,
   "metadata": {},
   "outputs": [
    {
     "name": "stdout",
     "output_type": "stream",
     "text": [
      "123\n"
     ]
    }
   ],
   "source": [
    "eval('print(\"123\")')"
   ]
  },
  {
   "cell_type": "code",
   "execution_count": null,
   "metadata": {},
   "outputs": [],
   "source": [
    "f = 'end'\n",
    "\n",
    "while True:\n",
    "    com = input(': ')\n",
    "    if com == f:\n",
    "        print('end')\n",
    "        break\n",
    "    elif com == '+':\n",
    "        break"
   ]
  },
  {
   "cell_type": "code",
   "execution_count": null,
   "metadata": {},
   "outputs": [],
   "source": []
  }
 ],
 "metadata": {
  "kernelspec": {
   "display_name": "Python 3",
   "language": "python",
   "name": "python3"
  },
  "language_info": {
   "codemirror_mode": {
    "name": "ipython",
    "version": 3
   },
   "file_extension": ".py",
   "mimetype": "text/x-python",
   "name": "python",
   "nbconvert_exporter": "python",
   "pygments_lexer": "ipython3",
   "version": "3.7.3"
  }
 },
 "nbformat": 4,
 "nbformat_minor": 2
}
