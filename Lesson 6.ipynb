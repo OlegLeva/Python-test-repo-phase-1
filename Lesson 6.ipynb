{
 "cells": [
  {
   "cell_type": "code",
   "execution_count": 5,
   "metadata": {},
   "outputs": [
    {
     "name": "stdout",
     "output_type": "stream",
     "text": [
      "{'country': 'UA'}\n",
      "{'country_code': 'UA'}\n",
      "{'country_code': 'US'}\n",
      "{'c': 'UA'}\n"
     ]
    }
   ],
   "source": [
    "sample_dict = {}\n",
    "sample_dict['country'] = 'UA'\n",
    "print(sample_dict)\n",
    "# Move key\n",
    "sample_dict['country_code'] = sample_dict['country']\n",
    "del sample_dict['country']\n",
    "print(sample_dict)\n",
    "sample_dict['country_code'] = 'US'\n",
    "print(sample_dict)\n",
    "print({\n",
    "    'c': 'US',\n",
    "    'c': 'UA'\n",
    "})"
   ]
  },
  {
   "cell_type": "code",
   "execution_count": 6,
   "metadata": {},
   "outputs": [
    {
     "name": "stdout",
     "output_type": "stream",
     "text": [
      "1\n",
      "End\n",
      "Dobby is free.\n"
     ]
    }
   ],
   "source": [
    "while True:\n",
    "    print(1)\n",
    "    if 'Evil' == 'Evil1':\n",
    "        print('From beginning')\n",
    "        continue\n",
    "    print('End')\n",
    "    break\n",
    "    print('Never goona give you UP!')\n",
    "print('Dobby is free.')"
   ]
  },
  {
   "cell_type": "code",
   "execution_count": 7,
   "metadata": {},
   "outputs": [
    {
     "name": "stdout",
     "output_type": "stream",
     "text": [
      "Select operations:\n",
      "+ is for sum\n",
      "\n",
      "Меню:\n",
      "<Operation and description>\n",
      "+\n",
      "+\n",
      "-\n",
      "- is not supported\n"
     ]
    }
   ],
   "source": [
    "print(\"\"\"Select operations:\n",
    "+ is for sum\n",
    "\"\"\")\n",
    "\n",
    "operation_with_desc = {\n",
    "    '+': 'Sum of two values'\n",
    "}\n",
    "print('Меню:')\n",
    "for _ in operation_with_desc:\n",
    "    print(\"<Operation and description>\")\n",
    "\n",
    "while True:\n",
    "    operation = input()\n",
    "    if operation not in operation_with_desc:\n",
    "          print(f\"{operation} is not supported\")\n",
    "          break\n",
    "\n"
   ]
  },
  {
   "cell_type": "code",
   "execution_count": 11,
   "metadata": {},
   "outputs": [
    {
     "name": "stdout",
     "output_type": "stream",
     "text": [
      "Type number: 123\n",
      "123\n",
      "12346\n"
     ]
    }
   ],
   "source": [
    "def validate(some_value):\n",
    "    print(some_value)\n",
    "\n",
    "user_input = input('Type number: ')\n",
    "validate(user_input)\n",
    "validate(\"12346\")"
   ]
  },
  {
   "cell_type": "code",
   "execution_count": 12,
   "metadata": {},
   "outputs": [
    {
     "name": "stdout",
     "output_type": "stream",
     "text": [
      "\n"
     ]
    }
   ],
   "source": [
    "def validate():\n",
    "    print(\"Menu:\")\n",
    "\n",
    "validate()"
   ]
  },
  {
   "cell_type": "code",
   "execution_count": 18,
   "metadata": {},
   "outputs": [
    {
     "name": "stdout",
     "output_type": "stream",
     "text": [
      "61\n",
      "\n",
      "\n",
      "\n",
      "\n",
      "\n",
      "\n",
      "\n",
      "\n",
      "\n",
      "\n",
      "\n",
      "\n",
      "\n",
      "\n",
      "\n",
      "\n",
      "\n",
      "\n",
      "\n",
      "\n",
      "\n",
      "\n",
      "\n",
      "\n",
      "\n",
      "\n",
      "\n",
      "\n",
      "\n",
      "\n",
      "\n",
      "\n",
      "\n",
      "\n",
      "\n",
      "\n",
      "\n",
      "\n",
      "\n",
      "\n",
      "\n",
      "\n",
      "\n",
      "\n",
      "\n",
      "\n",
      "\n",
      "\n",
      "\n",
      "\n",
      "\n",
      "\n",
      "\n",
      "\n",
      "\n",
      "\n",
      "\n",
      "\n",
      "\n",
      "\n",
      "\n",
      "\n",
      "0 of 61: \n",
      "\n",
      "1 of 61: \n",
      "\n",
      "2 of 61: \n",
      "\n",
      "3 of 61: \n",
      "\n",
      "4 of 61: \n",
      "\n",
      "5 of 61: \n",
      "\n",
      "6 of 61: \n",
      "\n",
      "7 of 61: \n",
      "\n",
      "8 of 61: \n",
      "\n",
      "9 of 61: \n",
      "\n",
      "10 of 61: \n",
      "\n",
      "11 of 61: \n",
      "\n",
      "12 of 61: \n",
      "\n",
      "13 of 61: \n",
      "\n",
      "14 of 61: \n",
      "\n",
      "15 of 61: \n",
      "\n",
      "16 of 61: \n",
      "\n",
      "17 of 61: \n",
      "\n",
      "18 of 61: \n",
      "\n",
      "19 of 61: \n",
      "\n",
      "20 of 61: \n",
      "\n",
      "21 of 61: \n",
      "\n",
      "22 of 61: \n",
      "\n",
      "23 of 61: \n",
      "\n",
      "24 of 61: \n",
      "\n",
      "25 of 61: \n",
      "\n",
      "26 of 61: \n",
      "\n",
      "27 of 61: \n",
      "\n",
      "28 of 61: \n",
      "\n",
      "29 of 61: \n",
      "\n",
      "30 of 61: \n",
      "\n",
      "31 of 61: \n",
      "\n",
      "32 of 61: \n",
      "\n",
      "33 of 61: \n",
      "\n",
      "34 of 61: \n",
      "\n",
      "35 of 61: \n",
      "\n",
      "36 of 61: \n",
      "\n",
      "37 of 61: \n",
      "\n",
      "38 of 61: \n",
      "\n",
      "39 of 61: \n",
      "\n",
      "40 of 61: \n",
      "\n",
      "41 of 61: \n",
      "\n",
      "42 of 61: \n",
      "\n",
      "43 of 61: \n",
      "\n",
      "44 of 61: \n",
      "\n",
      "45 of 61: \n",
      "\n",
      "46 of 61: \n",
      "\n",
      "47 of 61: \n",
      "\n",
      "48 of 61: \n",
      "\n",
      "49 of 61: \n",
      "\n",
      "50 of 61: \n",
      "\n",
      "51 of 61: \n",
      "\n",
      "52 of 61: \n",
      "\n",
      "53 of 61: \n",
      "\n",
      "54 of 61: \n",
      "\n",
      "55 of 61: \n",
      "\n",
      "56 of 61: \n",
      "\n",
      "57 of 61: \n",
      "\n",
      "58 of 61: \n",
      "\n",
      "59 of 61: \n",
      "\n",
      "60 of 61: \n",
      "\n"
     ]
    }
   ],
   "source": [
    "def print_several_newlines(new_lines_count):\n",
    "    print(new_lines_count)   \n",
    "    print(\"\\n\"*new_lines_count)\n",
    "    for line_number in range(new_lines_count):\n",
    "        print(f'{line_number} of {new_lines_count}: \\n')\n",
    "\n",
    "print_several_newlines(61)"
   ]
  },
  {
   "cell_type": "code",
   "execution_count": 24,
   "metadata": {},
   "outputs": [
    {
     "name": "stdout",
     "output_type": "stream",
     "text": [
      "Ok\n"
     ]
    }
   ],
   "source": [
    "def validate(user_input, support_negative):\n",
    "    if support_negative == False and user_input[0] == '-':\n",
    "        print('Don\\'t support negative. Stay positive!')\n",
    "    if user_input == '129':\n",
    "        print('Ok')\n",
    "validate('129', False)"
   ]
  },
  {
   "cell_type": "code",
   "execution_count": 29,
   "metadata": {},
   "outputs": [],
   "source": [
    "def validate(user_input, support_negative = None):\n",
    "    if support_negative == False and user_input[0] == '-':\n",
    "        print('Don\\'t support negative. Stay positive!')\n",
    "    if user_input == '129':\n",
    "        print('Ok')\n",
    "validate('-129', False)\n",
    "\n",
    "\n",
    "    "
   ]
  },
  {
   "cell_type": "code",
   "execution_count": 42,
   "metadata": {
    "scrolled": true
   },
   "outputs": [
    {
     "name": "stdout",
     "output_type": "stream",
     "text": [
      "My message\n"
     ]
    }
   ],
   "source": [
    "def print_msg(msg = 'Default message. Call me next time with some message. Lazy!!!'):\n",
    "    print(msg)\n",
    "print_msg(\"My message\")"
   ]
  },
  {
   "cell_type": "code",
   "execution_count": 39,
   "metadata": {},
   "outputs": [
    {
     "name": "stdout",
     "output_type": "stream",
     "text": [
      "-_-\n"
     ]
    }
   ],
   "source": [
    "def validate(user_input, message = None, support_negative = None):\n",
    "    if support_negative == False and user_input[0] == '-':\n",
    "        print('Don\\'t support negative. Stay positive!')\n",
    "    if user_input == '129':\n",
    "        if message is None:\n",
    "            print(\"-_-\")\n",
    "        else:\n",
    "            print(message)\n",
    "validate('129', 'Ok', False)"
   ]
  },
  {
   "cell_type": "code",
   "execution_count": 40,
   "metadata": {},
   "outputs": [
    {
     "name": "stdout",
     "output_type": "stream",
     "text": [
      "1 + 2 = 3\n"
     ]
    }
   ],
   "source": [
    "template = '{x} + {y} = {result}'\n",
    "print(template.format(x=1, y=2, result=3))"
   ]
  },
  {
   "cell_type": "code",
   "execution_count": 44,
   "metadata": {},
   "outputs": [],
   "source": [
    "validate('125', support_negative=False, message='Math rocks')"
   ]
  },
  {
   "cell_type": "code",
   "execution_count": 52,
   "metadata": {},
   "outputs": [
    {
     "name": "stdout",
     "output_type": "stream",
     "text": [
      "Ok\n"
     ]
    }
   ],
   "source": [
    "def validate_kw(user_input, *, message, support_negative=None):\n",
    "    if support_negative == False and user_input[0] == '-':\n",
    "        print('Don\\'t support negative. Stay positive!')\n",
    "    if user_input == '129':\n",
    "        print(message)\n",
    "validate_kw('129', message='Ok', support_negative=False)"
   ]
  },
  {
   "cell_type": "code",
   "execution_count": 57,
   "metadata": {},
   "outputs": [
    {
     "name": "stdout",
     "output_type": "stream",
     "text": [
      "Number: 129\n",
      "Ok\n",
      "Number: 888\n"
     ]
    }
   ],
   "source": [
    "def validate_and_convert(user_input, *, message, support_negative=None):\n",
    "    if support_negative == False and user_input[0] == '-':\n",
    "        print('Don\\'t support negative. Stay positive!')\n",
    "        return None\n",
    "    if user_input == '129':\n",
    "        print(message)\n",
    "        return int(user_input)\n",
    "    elif user_input == '129.29':\n",
    "        print(message)\n",
    "        return float(user_input)\n",
    "    return None\n",
    "\n",
    "while True:\n",
    "    value = validate_and_convert(input('Number: '), message='Ok')\n",
    "    if value is None:\n",
    "        break\n"
   ]
  },
  {
   "cell_type": "code",
   "execution_count": 59,
   "metadata": {},
   "outputs": [
    {
     "name": "stdout",
     "output_type": "stream",
     "text": [
      "Ok\n"
     ]
    }
   ],
   "source": [
    "value = validate_and_convert('1299', message='Ok2', support_negative=False)\n",
    "print(value)"
   ]
  },
  {
   "cell_type": "code",
   "execution_count": 64,
   "metadata": {},
   "outputs": [
    {
     "name": "stdout",
     "output_type": "stream",
     "text": [
      "(72, 23)\n"
     ]
    }
   ],
   "source": [
    "import random\n",
    "def get_random_pair():\n",
    "    a = random.randint(0, 100)\n",
    "    b = random.randint(0, 100)\n",
    "    return a, b\n",
    "print(get_random_pair())"
   ]
  },
  {
   "cell_type": "code",
   "execution_count": 65,
   "metadata": {},
   "outputs": [
    {
     "name": "stdout",
     "output_type": "stream",
     "text": [
      "23\n",
      "89\n"
     ]
    }
   ],
   "source": [
    "a,b = get_random_pair()\n",
    "print(a)\n",
    "print(b)"
   ]
  },
  {
   "cell_type": "code",
   "execution_count": 71,
   "metadata": {},
   "outputs": [
    {
     "name": "stdout",
     "output_type": "stream",
     "text": [
      "1\n",
      "2\n",
      "3\n",
      "(1, 2, 3, 6)\n"
     ]
    }
   ],
   "source": [
    "def unpack_three_values(a, b, c):\n",
    "    print(a)\n",
    "    print(b)\n",
    "    print(c)\n",
    "unpack_three_values(*[1,2,3])\n",
    "\n",
    "def packs_many_values(*args):\n",
    "    print(args)\n",
    "packs_many_values(1, 2, 3, 6)"
   ]
  },
  {
   "cell_type": "code",
   "execution_count": 74,
   "metadata": {},
   "outputs": [
    {
     "name": "stdout",
     "output_type": "stream",
     "text": [
      "1\n",
      "2\n",
      "3\n",
      "6\n",
      "8\n"
     ]
    }
   ],
   "source": [
    "def packs_many_values(a, b, *args):\n",
    "    print(a)\n",
    "    print(b)\n",
    "    unpack_three_values(*args)\n",
    "packs_many_values(1, 2, 3, 6, 8)"
   ]
  },
  {
   "cell_type": "code",
   "execution_count": 76,
   "metadata": {},
   "outputs": [
    {
     "name": "stdout",
     "output_type": "stream",
     "text": [
      "1\n",
      "2\n",
      "3\n",
      "{'x': 1, 'y': 2, 'o': 3, 'r': 6}\n"
     ]
    }
   ],
   "source": [
    "def unpack_three_values(c, o, r):\n",
    "    print(c)\n",
    "    print(o)\n",
    "    print(r)\n",
    "unpack_three_values(**{'c': 1, 'o':2, 'r': 3})\n",
    "\n",
    "def packs_many_values(**kwargs):\n",
    "    print(kwargs)\n",
    "packs_many_values(x=1, y=2, o=3, r=6)\n"
   ]
  },
  {
   "cell_type": "code",
   "execution_count": 80,
   "metadata": {},
   "outputs": [
    {
     "name": "stdout",
     "output_type": "stream",
     "text": [
      "1\n",
      "2\n",
      "{'c': 3, 'o': 6, 'r': 8}\n",
      "3\n",
      "6\n",
      "8\n"
     ]
    }
   ],
   "source": [
    "\n",
    "def packs_many_values(a, b, **kwargs):\n",
    "    print(a)\n",
    "    print(b)\n",
    "    print(kwargs)\n",
    "    unpack_three_values(**kwargs)\n",
    "\n",
    "packs_many_values(a=1, b=2, c=3, o=6, r=8)"
   ]
  },
  {
   "cell_type": "code",
   "execution_count": 84,
   "metadata": {},
   "outputs": [
    {
     "name": "stdout",
     "output_type": "stream",
     "text": [
      "X: 1\n",
      "Y: g\n",
      "Спробуйте ще раз!\n",
      "X: 1\n",
      "Y: h\n",
      "Спробуйте ще раз!\n",
      "X: 3\n",
      "Y: 4\n",
      "Result: 7\n"
     ]
    }
   ],
   "source": [
    "def validate(item):\n",
    "    return item.isdigit()\n",
    "\n",
    "def convert(item):\n",
    "    if validate(item) == True:\n",
    "        return int(item)\n",
    "    return None\n",
    "\n",
    "def add(a, b):\n",
    "    x = convert(a)\n",
    "    y = convert(b)\n",
    "    if x is None or y is None:\n",
    "        return None\n",
    "    return x + y\n",
    "\n",
    "while True:\n",
    "    к = add(input('X: '), input('Y: '))\n",
    "    if к is None:\n",
    "        print('Спробуйте ще раз!')\n",
    "        continue\n",
    "    print(f'Result: {к}')\n",
    "    break\n"
   ]
  },
  {
   "cell_type": "code",
   "execution_count": 86,
   "metadata": {},
   "outputs": [
    {
     "name": "stdout",
     "output_type": "stream",
     "text": [
      "22\n"
     ]
    }
   ],
   "source": [
    "operation_to_function = {\n",
    "    '+': add\n",
    "}\n",
    "\n",
    "func = operation_to_function['+']\n",
    "\n",
    "print(func('1', '21'))\n",
    "\n"
   ]
  },
  {
   "cell_type": "code",
   "execution_count": null,
   "metadata": {},
   "outputs": [],
   "source": []
  }
 ],
 "metadata": {
  "kernelspec": {
   "display_name": "Python 3",
   "language": "python",
   "name": "python3"
  },
  "language_info": {
   "codemirror_mode": {
    "name": "ipython",
    "version": 3
   },
   "file_extension": ".py",
   "mimetype": "text/x-python",
   "name": "python",
   "nbconvert_exporter": "python",
   "pygments_lexer": "ipython3",
   "version": "3.7.3"
  }
 },
 "nbformat": 4,
 "nbformat_minor": 2
}
