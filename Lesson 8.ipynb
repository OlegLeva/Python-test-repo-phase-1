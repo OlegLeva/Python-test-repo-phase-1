{
 "cells": [
  {
   "cell_type": "code",
   "execution_count": 2,
   "metadata": {},
   "outputs": [
    {
     "name": "stdout",
     "output_type": "stream",
     "text": [
      "Division error\n",
      "5.0\n"
     ]
    }
   ],
   "source": [
    "try:\n",
    "    print(10 / 0)\n",
    "except ZeroDivisionError:\n",
    "    print('Division error')\n",
    "print(10 / 2)"
   ]
  },
  {
   "cell_type": "code",
   "execution_count": 3,
   "metadata": {},
   "outputs": [
    {
     "ename": "KeyError",
     "evalue": "'key'",
     "output_type": "error",
     "traceback": [
      "\u001b[1;31m---------------------------------------------------------------------------\u001b[0m",
      "\u001b[1;31mKeyError\u001b[0m                                  Traceback (most recent call last)",
      "\u001b[1;32m<ipython-input-3-e7c2cacbd1a5>\u001b[0m in \u001b[0;36m<module>\u001b[1;34m\u001b[0m\n\u001b[0;32m      1\u001b[0m \u001b[0mdict_example\u001b[0m \u001b[1;33m=\u001b[0m \u001b[1;33m{\u001b[0m\u001b[1;33m}\u001b[0m\u001b[1;33m\u001b[0m\u001b[1;33m\u001b[0m\u001b[0m\n\u001b[1;32m----> 2\u001b[1;33m \u001b[0mdict_example\u001b[0m\u001b[1;33m[\u001b[0m\u001b[1;34m'key'\u001b[0m\u001b[1;33m]\u001b[0m\u001b[1;33m\u001b[0m\u001b[1;33m\u001b[0m\u001b[0m\n\u001b[0m",
      "\u001b[1;31mKeyError\u001b[0m: 'key'"
     ]
    }
   ],
   "source": [
    "dict_example = {}\n",
    "dict_example['key']"
   ]
  },
  {
   "cell_type": "code",
   "execution_count": 20,
   "metadata": {},
   "outputs": [
    {
     "ename": "ValueError",
     "evalue": "invalid literal for int() with base 10: 'nine'",
     "output_type": "error",
     "traceback": [
      "\u001b[1;31m---------------------------------------------------------------------------\u001b[0m",
      "\u001b[1;31mValueError\u001b[0m                                Traceback (most recent call last)",
      "\u001b[1;32m<ipython-input-20-de0739ffa414>\u001b[0m in \u001b[0;36m<module>\u001b[1;34m\u001b[0m\n\u001b[1;32m----> 1\u001b[1;33m \u001b[0mint\u001b[0m\u001b[1;33m(\u001b[0m\u001b[1;34m'nine'\u001b[0m\u001b[1;33m)\u001b[0m\u001b[1;33m\u001b[0m\u001b[1;33m\u001b[0m\u001b[0m\n\u001b[0m",
      "\u001b[1;31mValueError\u001b[0m: invalid literal for int() with base 10: 'nine'"
     ]
    }
   ],
   "source": [
    "int('nine')"
   ]
  },
  {
   "cell_type": "code",
   "execution_count": 41,
   "metadata": {},
   "outputs": [
    {
     "name": "stdout",
     "output_type": "stream",
     "text": [
      "Second value: 1.34\n",
      "Ай ай ай, а можна ввести нормальне число? invalid literal for int() with base 10: '1.34'\n",
      "Finally\n"
     ]
    }
   ],
   "source": [
    "def div(a, b):\n",
    "    if b == 0:\n",
    "        raise ZeroDivisionError\n",
    "    return a / b\n",
    "\n",
    "def get(some_dict, key):\n",
    "    if key not in some_dict:\n",
    "        raise KeyError('Дічь')\n",
    "    return some_dict[key]\n",
    "\n",
    "\n",
    "try:\n",
    "    dict_example = {\n",
    "        'first': 1,\n",
    "        'third': 10\n",
    "    }\n",
    "    dict_example['second'] = int(input('Second value: '))\n",
    "    a = div(get(dict_example, 'first'), get(dict_example, 'second'))\n",
    "    b = div(a, get(dict_example, 'third'))\n",
    "    c = a + b\n",
    "except ZeroDivisionError:\n",
    "    print('Ай ай ай, на нуль ділити не можна. Буде не визначеність!')\n",
    "except KeyError as e:\n",
    "    print(f'Ай ай ай, не можна брати даних яких немає! {e} не існує!')\n",
    "except ValueError as e:\n",
    "    print(f'Ай ай ай, а можна ввести нормальне число? {e}')\n",
    "else:\n",
    "    print(f\"{c} - is a sum of smth\")\n",
    "finally:\n",
    "    print(\"Finally\")\n"
   ]
  },
  {
   "cell_type": "code",
   "execution_count": 44,
   "metadata": {},
   "outputs": [
    {
     "name": "stdout",
     "output_type": "stream",
     "text": [
      "Ooops! I did it again!: I'm Groot\n",
      "2\n",
      "3\n",
      "4\n"
     ]
    }
   ],
   "source": [
    "smth = []\n",
    "bad_lines = []\n",
    "i = 0\n",
    "while i < 10:\n",
    "    try:\n",
    "        validate(line)\n",
    "        smth.append(line)\n",
    "    except ValueError as e:\n",
    "        bad_lines.append(line)\n",
    "    except Exception as e:\n",
    "        break\n",
    "    finally:\n",
    "        i += 1\n",
    "    \n",
    "print(smth)\n",
    "print(bad_lines)"
   ]
  },
  {
   "cell_type": "code",
   "execution_count": 46,
   "metadata": {},
   "outputs": [
    {
     "name": "stdout",
     "output_type": "stream",
     "text": [
      "Ooops! I did it again!: I'm Groot\n",
      "2\n",
      "3\n",
      "4\n"
     ]
    }
   ],
   "source": [
    "def func1():\n",
    "    raise Exception('I\\'m Groot')\n",
    "    print(1)\n",
    "\n",
    "def func2():\n",
    "    try:\n",
    "        func1()\n",
    "    except Exception as e:\n",
    "        print(f'Ooops! I did it again!: {e}')\n",
    "    print(2)\n",
    "\n",
    "def func3():\n",
    "    func2()\n",
    "    print(3)\n",
    "\n",
    "def func4():\n",
    "    func3()\n",
    "    print(4)\n",
    "\n",
    "func4()\n",
    "            "
   ]
  },
  {
   "cell_type": "code",
   "execution_count": null,
   "metadata": {},
   "outputs": [
    {
     "name": "stdout",
     "output_type": "stream",
     "text": [
      "<class 'float'>\n"
     ]
    }
   ],
   "source": [
    "def div(a, b):\n",
    "    if b == 0:\n",
    "        raise ZeroDivisionError\n",
    "    return a / b\n",
    "\n",
    "def get(some_dict, key):\n",
    "    if key not in some_dict:\n",
    "        raise KeyError('Дічь')\n",
    "    return some_dict[key]\n",
    "\n",
    "\n",
    "try:\n",
    "    \n",
    "    dict_example = {\n",
    "        'first': 1,\n",
    "        'third': 10\n",
    "    }\n",
    "    print(-1 ** (1/2))\n",
    "    dict_example['second'] = int(input('Second value: '))\n",
    "    a = div(get(dict_example, 'first'), get(dict_example, 'second'))\n",
    "    b = div(a, get(dict_example, 'third'))\n",
    "    c = a + b\n",
    "except ZeroDivisionError:\n",
    "    print('Ай ай ай, на нуль ділити не можна. Буде не визначеність!')\n",
    "except KeyError as e:\n",
    "    print(f'Ай ай ай, не можна брати даних яких немає! {e} не існує!')\n",
    "except ValueError as e:\n",
    "    print(f'Ай ай ай, а можна ввести нормальне число? {e}')\n",
    "except ArithmeticalError as e:\n",
    "    print(e)\n",
    "except Exception as e:\n",
    "    print(e)\n",
    "else:\n",
    "    print(f\"{c} - is a sum of smth\")\n",
    "finally:\n",
    "    print(\"Finally\")"
   ]
  },
  {
   "cell_type": "code",
   "execution_count": 5,
   "metadata": {},
   "outputs": [
    {
     "name": "stdout",
     "output_type": "stream",
     "text": [
      "1\n",
      "Ooops! I've eaten it again!: I'm Banana\n",
      "WAT!\n",
      "4\n"
     ]
    }
   ],
   "source": [
    "def func1(item):\n",
    "    if item is None:\n",
    "        raise ValueError('I\\'m Groot')\n",
    "    print(1)\n",
    "\n",
    "def func11(item):\n",
    "    if item is None:\n",
    "        raise NameError('I\\'m Banana')\n",
    "    print(1)\n",
    "\n",
    "    \n",
    "def func2():\n",
    "    try:\n",
    "        func1(1)\n",
    "        func11(None)\n",
    "    except ValueError as e:\n",
    "        print(f'Ooops! I did it again!: {e}')\n",
    "        raise Exception('WAT!')\n",
    "    except NameError as e:\n",
    "        print(f'Ooops! I\\'ve eaten it again!: {e}')\n",
    "        raise Exception('WAT!')\n",
    "    print(2)\n",
    "\n",
    "def func3():\n",
    "    func2()\n",
    "    print(3)\n",
    "\n",
    "def func4():\n",
    "    try:\n",
    "        func3()\n",
    "    except Exception as e:\n",
    "        print(e)\n",
    "        print('Авайрійне завершення')\n",
    "\n",
    "func4()"
   ]
  },
  {
   "cell_type": "code",
   "execution_count": 3,
   "metadata": {},
   "outputs": [
    {
     "name": "stdout",
     "output_type": "stream",
     "text": [
      "1\n",
      "2\n",
      "5\n",
      "invalid literal for int() with base 10: 'asdasd' should be number\n",
      "7\n",
      "Can't perform sum\n",
      "I'm alive\n"
     ]
    }
   ],
   "source": [
    "def sum1(items_list):\n",
    "    try:\n",
    "        x = items_list[0]\n",
    "        y = items_list[1]\n",
    "        return int(x) + int(y)\n",
    "    except IndexError:\n",
    "        print(f'items_list should have 2 items')\n",
    "        raise ArithmeticError('Can\\'t perform sum')\n",
    "    except ValueError as e:\n",
    "        print(f'{e} should be number')\n",
    "        raise ArithmeticError('Can\\'t perform sum')\n",
    "    except Exception as e:\n",
    "        raise ArithmeticError('Can\\'t perform sum')\n",
    "\n",
    "i = 0        \n",
    "while i < 1:\n",
    "    i += 1\n",
    "    try:\n",
    "        print('1')\n",
    "        sum1(['123', '123'])\n",
    "        print('2')\n",
    "    except ArithmeticError as e:\n",
    "        print('3')\n",
    "        print(e)\n",
    "        continue\n",
    "    except Exception:\n",
    "        print('4')\n",
    "        print('See Ya!')\n",
    "        break\n",
    "\n",
    "    try:\n",
    "        print('5')\n",
    "        sum1(['123', 'asdasd'])\n",
    "        print('6')\n",
    "    except ArithmeticError as e:\n",
    "        print('7')\n",
    "        print(e)\n",
    "        continue\n",
    "    except Exception:\n",
    "        print('See Ya!')\n",
    "        print('8')\n",
    "        break\n",
    "   \n",
    "    try:\n",
    "        print('9')\n",
    "        sum1(['123'])\n",
    "        print('10')\n",
    "    except ArithmeticError as e:\n",
    "        print('11')\n",
    "        print(e)\n",
    "        continue\n",
    "    except Exception:\n",
    "        print('12')\n",
    "        print('See Ya!')\n",
    "        break\n",
    "print('I\\'m alive')"
   ]
  },
  {
   "cell_type": "code",
   "execution_count": null,
   "metadata": {},
   "outputs": [],
   "source": []
  }
 ],
 "metadata": {
  "kernelspec": {
   "display_name": "Python 3",
   "language": "python",
   "name": "python3"
  },
  "language_info": {
   "codemirror_mode": {
    "name": "ipython",
    "version": 3
   },
   "file_extension": ".py",
   "mimetype": "text/x-python",
   "name": "python",
   "nbconvert_exporter": "python",
   "pygments_lexer": "ipython3",
   "version": "3.7.3"
  }
 },
 "nbformat": 4,
 "nbformat_minor": 2
}
